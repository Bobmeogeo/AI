{
 "cells": [
  {
   "cell_type": "markdown",
   "metadata": {},
   "source": [
    "# File"
   ]
  },
  {
   "cell_type": "code",
   "execution_count": 2,
   "metadata": {},
   "outputs": [
    {
     "data": {
      "text/plain": [
       "'\\nf = open(파일의 경로, 파일 접근 모드)\\n파일 접근 모드\\nr: 텍스트 파일 읽기 모드\\nw: 테스트 파일 쓰기 모드(새파일 생성) \\na: 텍스트 파일 추가 모드(기존 파일에 추가)\\nb: 바이너리 파일 모드\\nf.close() -> 파일 접근이 완료된 후에는 자원을 반환해야한다.\\n'"
      ]
     },
     "execution_count": 2,
     "metadata": {},
     "output_type": "execute_result"
    }
   ],
   "source": [
    "# File을 읽고 쓰자\n",
    "\"\"\"\n",
    "f = open(파일의 경로, 파일 접근 모드)\n",
    "파일 접근 모드\n",
    "r: 텍스트 파일 읽기 모드\n",
    "w: 테스트 파일 쓰기 모드(새파일 생성) \n",
    "a: 텍스트 파일 추가 모드(기존 파일에 추가)\n",
    "b: 바이너리 파일 모드\n",
    "f.close() -> 파일 접근이 완료된 후에는 자원을 반환해야한다.\n",
    "\"\"\""
   ]
  },
  {
   "cell_type": "code",
   "execution_count": 5,
   "metadata": {},
   "outputs": [
    {
     "data": {
      "text/plain": [
       "<function TextIOWrapper.close()>"
      ]
     },
     "execution_count": 5,
     "metadata": {},
     "output_type": "execute_result"
    }
   ],
   "source": [
    "# Open & Close\n",
    "f = open('./hello.txt', 'r') # w인 경우 파일이 없으면 빈 파일을 새로 생성\n",
    "f.close"
   ]
  },
  {
   "cell_type": "code",
   "execution_count": 8,
   "metadata": {},
   "outputs": [],
   "source": [
    "# w 모드로 파일을 열었을 때 wrire()로 파일에 내용을 기록 가능하다\n",
    "# 줄바꿈 \\n 을 적어줘야 다음 줄로 바뀐다.\n",
    "# 이미 존재하는 경우라면 기존 내용이 초기화된다.\n",
    "f = open('./hello.txt', 'w')\n",
    "f.write('Hello\\n')\n",
    "f.write('Python and AI')\n",
    "f.close()"
   ]
  },
  {
   "cell_type": "code",
   "execution_count": 10,
   "metadata": {},
   "outputs": [
    {
     "name": "stdout",
     "output_type": "stream",
     "text": [
      "Hello\n",
      "\n",
      "Python and AI\n"
     ]
    }
   ],
   "source": [
    "# r모드로 파일을 접근하고 for 명령문을 이용해서 한 줄씩 파일 내용을 읽을 수 있다.\n",
    "f = open('./hello.txt', 'r')\n",
    "for line in f:\n",
    "    print(line)\n",
    "f.close()"
   ]
  },
  {
   "cell_type": "code",
   "execution_count": 12,
   "metadata": {},
   "outputs": [
    {
     "name": "stdout",
     "output_type": "stream",
     "text": [
      "True\n"
     ]
    }
   ],
   "source": [
    "# 파일의 존재를 확인하자\n",
    "import os\n",
    "print(os.path.exists('./hello.txt'))"
   ]
  },
  {
   "cell_type": "code",
   "execution_count": 20,
   "metadata": {},
   "outputs": [
    {
     "ename": "TypeError",
     "evalue": "'str' object is not callable",
     "output_type": "error",
     "traceback": [
      "\u001b[0;31m---------------------------------------------------------------------------\u001b[0m",
      "\u001b[0;31mTypeError\u001b[0m                                 Traceback (most recent call last)",
      "\u001b[1;32m/Users/jeonghyun/Desktop/workplace/AI/1. Python/0102.File_control.ipynb 셀 7\u001b[0m line \u001b[0;36m1\n\u001b[1;32m     <a href='vscode-notebook-cell:/Users/jeonghyun/Desktop/workplace/AI/1.%20Python/0102.File_control.ipynb#X10sZmlsZQ%3D%3D?line=12'>13</a>\u001b[0m \u001b[39mwith\u001b[39;00m \u001b[39mopen\u001b[39m(file_name, \u001b[39m\"\u001b[39m\u001b[39mw\u001b[39m\u001b[39m\"\u001b[39m) \u001b[39mas\u001b[39;00m file:\n\u001b[1;32m     <a href='vscode-notebook-cell:/Users/jeonghyun/Desktop/workplace/AI/1.%20Python/0102.File_control.ipynb#X10sZmlsZQ%3D%3D?line=13'>14</a>\u001b[0m     \u001b[39mwhile\u001b[39;00m \u001b[39mTrue\u001b[39;00m:\n\u001b[0;32m---> <a href='vscode-notebook-cell:/Users/jeonghyun/Desktop/workplace/AI/1.%20Python/0102.File_control.ipynb#X10sZmlsZQ%3D%3D?line=14'>15</a>\u001b[0m         inputs \u001b[39m=\u001b[39m \u001b[39minput\u001b[39;49m(\u001b[39m\"\u001b[39;49m\u001b[39m내용을 입력하세요: \u001b[39;49m\u001b[39m\"\u001b[39;49m)\n\u001b[1;32m     <a href='vscode-notebook-cell:/Users/jeonghyun/Desktop/workplace/AI/1.%20Python/0102.File_control.ipynb#X10sZmlsZQ%3D%3D?line=16'>17</a>\u001b[0m         \u001b[39mif\u001b[39;00m \u001b[39mnot\u001b[39;00m inputs:\n\u001b[1;32m     <a href='vscode-notebook-cell:/Users/jeonghyun/Desktop/workplace/AI/1.%20Python/0102.File_control.ipynb#X10sZmlsZQ%3D%3D?line=17'>18</a>\u001b[0m             \u001b[39mbreak\u001b[39;00m\n",
      "\u001b[0;31mTypeError\u001b[0m: 'str' object is not callable"
     ]
    }
   ],
   "source": [
    "# 미션 1\n",
    "# 1. 사용자의 입력을 받는다.\n",
    "# 2. 파일이 존재하지 않을 때는 새로 파일을 만들고 기록, 존재하는 경우에는 기존 파일에 내용을 추가\n",
    "# 3. 사용자가 내용을 입력하지 않으면 프로그램을 종료\n",
    "\"\"\"출력 내용\n",
    "내용을 입력하세요: 안녕하세요.\n",
    "내용을 입력하세요: 반갑습히다.\n",
    "내용을 입력하세요: \n",
    "\"\"\"\n",
    "# 파일명을 지정합니다.\n",
    "file_name = \"input_log.txt\"\n",
    "\n",
    "with open(file_name, \"w\") as file:\n",
    "    while True:\n",
    "        inputs = input(\"내용을 입력하세요: \")\n",
    "\n",
    "        if not inputs:\n",
    "            break\n",
    "\n",
    "        file.write(inputs + \"\\n\")\n",
    "\n",
    "print(\"프로그램을 종료합니다.\")\n"
   ]
  },
  {
   "cell_type": "code",
   "execution_count": 22,
   "metadata": {},
   "outputs": [
    {
     "name": "stdout",
     "output_type": "stream",
     "text": [
      "<class 'str'> {\"name\": \"Ted\", \"height\": \"180\", \"weight\": \"83\"}\n",
      "<class 'dict'> {'name': 'Ted', 'height': '180', 'weight': '83'}\n"
     ]
    }
   ],
   "source": [
    "# JSON: json 형식의 문장을 읽어서 dict 형식으로 변환할 수 있음\n",
    "import json\n",
    "\n",
    "me = '{\"name\": \"Ted\", \"height\": \"180\", \"weight\": \"83\"}'\n",
    "print(type(me), me)\n",
    "me2 = json.loads(me)\n",
    "print(type(me2), me2)"
   ]
  },
  {
   "cell_type": "markdown",
   "metadata": {},
   "source": [
    "# Pickle"
   ]
  },
  {
   "cell_type": "code",
   "execution_count": null,
   "metadata": {},
   "outputs": [],
   "source": []
  }
 ],
 "metadata": {
  "kernelspec": {
   "display_name": "lecture",
   "language": "python",
   "name": "python3"
  },
  "language_info": {
   "codemirror_mode": {
    "name": "ipython",
    "version": 3
   },
   "file_extension": ".py",
   "mimetype": "text/x-python",
   "name": "python",
   "nbconvert_exporter": "python",
   "pygments_lexer": "ipython3",
   "version": "3.10.12"
  },
  "orig_nbformat": 4
 },
 "nbformat": 4,
 "nbformat_minor": 2
}
