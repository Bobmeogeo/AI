{
 "cells": [
  {
   "cell_type": "markdown",
   "metadata": {},
   "source": [
    "# Data Type & Operation"
   ]
  },
  {
   "cell_type": "code",
   "execution_count": 1,
   "metadata": {},
   "outputs": [
    {
     "data": {
      "text/plain": [
       "' 문자형: \"\", \\'\\'를 이용해서 문자를 표현(str), 줄바꿈은 /n으로 표현 '"
      ]
     },
     "execution_count": 1,
     "metadata": {},
     "output_type": "execute_result"
    }
   ],
   "source": [
    "# 정수형\n",
    "# 실수형\n",
    "# 복수형\n",
    "# Operaition\n",
    "# 문자형: \"\", ''를 이용해서 문자를 표현(str), 줄바꿈은 /n으로 표현\n",
    "# Boolean: True, False"
   ]
  },
  {
   "cell_type": "code",
   "execution_count": 2,
   "metadata": {},
   "outputs": [
    {
     "name": "stdout",
     "output_type": "stream",
     "text": [
      "9 * 1  =  9\n",
      "9 * 2  =  18\n",
      "9 * 3  =  27\n",
      "9 * 4  =  36\n",
      "9 * 5  =  45\n",
      "9 * 6  =  54\n",
      "9 * 7  =  63\n",
      "9 * 8  =  72\n",
      "9 * 9  =  81\n"
     ]
    }
   ],
   "source": [
    "# 미션1. print명령을 이용해서 구구단의 9단을 출력하는 프로그램 완성하기\n",
    "print('9', '*', '1', ' = ', 9)\n",
    "print('9', '*', '2', ' = ', 18)\n",
    "print('9', '*', '3', ' = ', 27)\n",
    "print('9', '*', '4', ' = ', 36)\n",
    "print('9', '*', '5', ' = ', 45)\n",
    "print('9', '*', '6', ' = ', 54)\n",
    "print('9', '*', '7', ' = ', 63)\n",
    "print('9', '*', '8', ' = ', 72)\n",
    "print('9', '*', '9', ' = ', 81)\n"
   ]
  },
  {
   "cell_type": "code",
   "execution_count": 5,
   "metadata": {},
   "outputs": [
    {
     "name": "stdout",
     "output_type": "stream",
     "text": [
      "직사각형의 넓이는 200 입니다.\n",
      "직사각형의 변의 길이는 60 입니다.\n"
     ]
    }
   ],
   "source": [
    "# 미션 2.직사각형의 넓이, 변의 길이를 구하는 프로그램 만들기\n",
    "width = int(input('폭을 입력하세요: '))\n",
    "height = int(input('높이를 입력하세요: '))\n",
    "print('직사각형의 넓이는', width * height,'입니다.')\n",
    "print('직사각형의 변의 길이는', 2*(width + height),'입니다.')"
   ]
  },
  {
   "cell_type": "markdown",
   "metadata": {},
   "source": [
    "# Variable(변수)"
   ]
  },
  {
   "cell_type": "code",
   "execution_count": null,
   "metadata": {},
   "outputs": [],
   "source": [
    "# 변수의 값을 저장할 수 있다.\n",
    "# 저장된 값을 계산하고 연산자를 사용할 수 있다."
   ]
  },
  {
   "cell_type": "code",
   "execution_count": 6,
   "metadata": {},
   "outputs": [
    {
     "name": "stdout",
     "output_type": "stream",
     "text": [
      "3 * 7 =  21\n"
     ]
    }
   ],
   "source": [
    "# 미션 3. 두개의 숫자를 입력받아서 두 숫자의 곱을 구하는 프로그램 작성하기\n",
    "no1 = int(input('숫자 1을 입력하세요: '))\n",
    "no2 = int(input('숫자 2를 입력하세요: '))\n",
    "print(f'{no1} * {no2} = ',no1 * no2) #f-string의 이용법을 알아야한다."
   ]
  },
  {
   "cell_type": "code",
   "execution_count": 10,
   "metadata": {},
   "outputs": [
    {
     "name": "stdout",
     "output_type": "stream",
     "text": [
      "밑변의 길이가 3이고, 높이가 4인 직각삼각형의 대각선 길이는 5.0 입니다.\n"
     ]
    }
   ],
   "source": [
    "# 미션 4. 직각 삼각형의 밑변과 높이를 입력받고 대각선의 길이를 구하는 프로그램 작성하기\n",
    "width = int(input('밑변의 길이를 입력하세요.'))\n",
    "height = int(input('높이를 입력하세요.'))\n",
    "diagonal = (width**2 + height**2)**0.5\n",
    "print(f'밑변의 길이가 {width}이고, 높이가 {height}인 직각삼각형의 대각선 길이는 {diagonal} 입니다.')\n"
   ]
  },
  {
   "cell_type": "markdown",
   "metadata": {},
   "source": [
    "# If Statement"
   ]
  },
  {
   "cell_type": "code",
   "execution_count": 13,
   "metadata": {},
   "outputs": [
    {
     "name": "stdout",
     "output_type": "stream",
     "text": [
      "other\n"
     ]
    }
   ],
   "source": [
    "# 비교연산자 ==, !=, <, <=\n",
    "# and 연산자: 둘의 값이 모두 True일 때만 True를 반환\n",
    "# or 연산자: 비교 연산시 하나라도 True이면 True를 반환\n",
    "# not 연산자: 거짓인 경우 True, 참인 경우 False를 반환\n",
    "\n",
    "n = int(input())\n",
    "if n == 1:\n",
    "    print(1)\n",
    "elif n == 2:\n",
    "    print(2)\n",
    "else:\n",
    "    print('other')"
   ]
  },
  {
   "cell_type": "code",
   "execution_count": 19,
   "metadata": {},
   "outputs": [
    {
     "name": "stdout",
     "output_type": "stream",
     "text": [
      "정사각형2의 밑변 길이가 깁니다.\n",
      "두 정사각형의 넓이의 차는 21 입니다.\n"
     ]
    }
   ],
   "source": [
    "# 미션 5.\n",
    "# 1. 두 개의 정사각형의 밑변 길이를 입력한다.\n",
    "# 2. 두 밑변의 길이가 같은 경우 첫 번째 넓이에서 두 번째 넓이를 뺀 값\n",
    "# 3. 둘 중에 밑 변의 길이가 큰 쪽의 넓이에서 작은 쪽의 넓이를 뺀 값을 구하기.\n",
    "\n",
    "width1 = int(input(\"정사각형1의 밑변 길이: \"))\n",
    "width2 = int(input(\"정사각형2의 밑변 길이:\"))\n",
    "area1 = int(width1**2)\n",
    "area2 = int(width2**2)\n",
    "\n",
    "if width1 == width2:\n",
    "    print(\"두 변의 길이가 같습니다.\")\n",
    "    print(\"두 정사각형의 넓이의 차이는\", area1 -  area2, \"입니다.\")\n",
    "elif width1 > width2:\n",
    "    print(\"정사각형1의 밑변 길이가 깁니다.\")\n",
    "    print(\"두 정사각형의 넓이의 차는\", area1 - area2,\"입니다.\")\n",
    "else:\n",
    "    print(\"정사각형2의 밑변 길이가 깁니다.\")\n",
    "    print(\"두 정사각형의 넓이의 차는\", area2 - area1,\"입니다.\")"
   ]
  },
  {
   "cell_type": "code",
   "execution_count": 25,
   "metadata": {},
   "outputs": [
    {
     "name": "stdout",
     "output_type": "stream",
     "text": [
      "두 번째 문장의 길이가 깁니다.\n",
      "두 번째 문장:  인공지능2\n",
      "첫 번째 문장:  인공지능\n"
     ]
    }
   ],
   "source": [
    "# 미션 6.\n",
    "# 1. 두 개의 문자열을 str1, str2에 저장하기\n",
    "# 2. 두 문장의 길이가 같은 경우 str1, str2 순서대로 문장을 출력\n",
    "# 3. 두 문장의 길이가 다른 경우 길이가 큰 문장을 우선 출력\n",
    "str1 = input()\n",
    "str2 = input()\n",
    "\n",
    "if len(str1) == len(str2):\n",
    "    print(\"두 문장의 길이가 같습니다.\")\n",
    "    print(\"첫 번째 문장: \",str1)\n",
    "    print(\"두 번째 문장: \",str2)\n",
    "elif len(str1) >= len(str2):\n",
    "    print(\"첫 번째 문장의 길이가 깁니다.\")\n",
    "    print(\"첫 번째 문장: \",str1)\n",
    "    print(\"두 번째 문장: \",str2)\n",
    "else:\n",
    "    print(\"두 번째 문장의 길이가 깁니다.\")\n",
    "    print(\"두 번째 문장: \",str2)\n",
    "    print(\"첫 번째 문장: \",str1)\n"
   ]
  },
  {
   "cell_type": "markdown",
   "metadata": {},
   "source": [
    "# Loop Statements"
   ]
  },
  {
   "cell_type": "code",
   "execution_count": 30,
   "metadata": {},
   "outputs": [
    {
     "name": "stdout",
     "output_type": "stream",
     "text": [
      "range(0, 5)\n",
      "range(0, 5)\n",
      "[0, 1, 2, 3, 4]\n",
      "[0, 2, 4]\n",
      "[5, 4, 3, 2, 1]\n",
      "['h', 'e', 'l', 'l', 'o']\n"
     ]
    }
   ],
   "source": [
    "# ragne 함수: range(0, 5, 1)\n",
    "print(range(0, 5, 1))\n",
    "print(range(5))\n",
    "# range 함수를 배열로 만들 수 있다.\n",
    "# (start, end, step)\n",
    "print(list(range(0, 5, 1)))\n",
    "print(list(range(0, 5, 2)))\n",
    "print(list(range(5, 0, -1)))\n",
    "print(list(\"hello\"))"
   ]
  },
  {
   "cell_type": "code",
   "execution_count": null,
   "metadata": {},
   "outputs": [],
   "source": [
    "\"\"\"for i in range(5):\n",
    "    print('Hello')\n",
    "\n",
    "1. for: 배열에 있는 내용을 하나씩 꺼내서 순차적으로 진행\n",
    "2. i: 배열에서 하나씩 꺼낸 값이 저장되는 변수\n",
    "3. range(5): 값을 꺼낼 배열 또는 배열로 변환이 가능한 값\n",
    "4. print('Hello'): 배열의 내용을 실행할 내용\n",
    "\"\"\""
   ]
  },
  {
   "cell_type": "code",
   "execution_count": 35,
   "metadata": {},
   "outputs": [
    {
     "name": "stdout",
     "output_type": "stream",
     "text": [
      "1부터  100 까지 홀수의 합은 2500\n",
      "1부터  100 까지 짝수의 합은 2550\n"
     ]
    }
   ],
   "source": [
    "# 미션 7. 1부터 n까지의 홀수의 합과 짝수의 합을 구하는 프로그램 작성하기\n",
    "\n",
    "n = int(input())\n",
    "sum1 = 0\n",
    "sum2 = 0\n",
    "for i in range(1, n+1):\n",
    "    if i %2 == 1:\n",
    "        sum1 += i\n",
    "    else:\n",
    "        sum2 += i\n",
    "\n",
    "print('1부터 ', n,'까지 홀수의 합은', sum1)\n",
    "print('1부터 ', n,'까지 짝수의 합은', sum2)"
   ]
  },
  {
   "cell_type": "code",
   "execution_count": 41,
   "metadata": {},
   "outputs": [
    {
     "name": "stdout",
     "output_type": "stream",
     "text": [
      "********** 2 단 **********\n",
      "2 * 1 = 2\n",
      "2 * 2 = 4\n",
      "2 * 3 = 6\n",
      "2 * 4 = 8\n",
      "2 * 5 = 10\n",
      "2 * 6 = 12\n",
      "2 * 7 = 14\n",
      "2 * 8 = 16\n",
      "2 * 9 = 18\n",
      "********** 3 단 **********\n",
      "3 * 1 = 3\n",
      "3 * 2 = 6\n",
      "3 * 3 = 9\n",
      "3 * 4 = 12\n",
      "3 * 5 = 15\n",
      "3 * 6 = 18\n",
      "3 * 7 = 21\n",
      "3 * 8 = 24\n",
      "3 * 9 = 27\n",
      "********** 4 단 **********\n",
      "4 * 1 = 4\n",
      "4 * 2 = 8\n",
      "4 * 3 = 12\n",
      "4 * 4 = 16\n",
      "4 * 5 = 20\n",
      "4 * 6 = 24\n",
      "4 * 7 = 28\n",
      "4 * 8 = 32\n",
      "4 * 9 = 36\n",
      "********** 5 단 **********\n",
      "5 * 1 = 5\n",
      "5 * 2 = 10\n",
      "5 * 3 = 15\n",
      "5 * 4 = 20\n",
      "5 * 5 = 25\n",
      "5 * 6 = 30\n",
      "5 * 7 = 35\n",
      "5 * 8 = 40\n",
      "5 * 9 = 45\n",
      "********** 6 단 **********\n",
      "6 * 1 = 6\n",
      "6 * 2 = 12\n",
      "6 * 3 = 18\n",
      "6 * 4 = 24\n",
      "6 * 5 = 30\n",
      "6 * 6 = 36\n",
      "6 * 7 = 42\n",
      "6 * 8 = 48\n",
      "6 * 9 = 54\n",
      "********** 7 단 **********\n",
      "7 * 1 = 7\n",
      "7 * 2 = 14\n",
      "7 * 3 = 21\n",
      "7 * 4 = 28\n",
      "7 * 5 = 35\n",
      "7 * 6 = 42\n",
      "7 * 7 = 49\n",
      "7 * 8 = 56\n",
      "7 * 9 = 63\n",
      "********** 8 단 **********\n",
      "8 * 1 = 8\n",
      "8 * 2 = 16\n",
      "8 * 3 = 24\n",
      "8 * 4 = 32\n",
      "8 * 5 = 40\n",
      "8 * 6 = 48\n",
      "8 * 7 = 56\n",
      "8 * 8 = 64\n",
      "8 * 9 = 72\n",
      "********** 9 단 **********\n",
      "9 * 1 = 9\n",
      "9 * 2 = 18\n",
      "9 * 3 = 27\n",
      "9 * 4 = 36\n",
      "9 * 5 = 45\n",
      "9 * 6 = 54\n",
      "9 * 7 = 63\n",
      "9 * 8 = 72\n",
      "9 * 9 = 81\n"
     ]
    }
   ],
   "source": [
    "# 미션 8. for문 두 개를 사용해서 구구단을 출력하는 프로그램 작성하기\n",
    "\n",
    "for i in range(2, 10):\n",
    "    print('*'*10, i,'단', '*'*10)\n",
    "    for j in range(1, 10):\n",
    "        print(i, '*', j, '=', i*j)"
   ]
  },
  {
   "cell_type": "code",
   "execution_count": 46,
   "metadata": {},
   "outputs": [
    {
     "name": "stdout",
     "output_type": "stream",
     "text": [
      "hello 0\n",
      "hello 1\n",
      "hello 2\n",
      "hello 3\n",
      "hello 4\n"
     ]
    }
   ],
   "source": [
    "# break문\n",
    "for i in range(100):\n",
    "    if i == 5:\n",
    "        break\n",
    "    print(\"hello\", i)"
   ]
  },
  {
   "cell_type": "code",
   "execution_count": 47,
   "metadata": {},
   "outputs": [
    {
     "name": "stdout",
     "output_type": "stream",
     "text": [
      "hello 0\n",
      "hello 1\n",
      "hello 2\n",
      "hello 3\n",
      "hello 4\n",
      "hello 5\n",
      "hello 6\n",
      "hello 7\n",
      "hello 8\n",
      "hello 9\n",
      "hello 11\n",
      "hello 12\n",
      "hello 13\n",
      "hello 14\n",
      "hello 15\n",
      "hello 16\n",
      "hello 17\n",
      "hello 18\n",
      "hello 19\n",
      "hello 20\n",
      "hello 21\n",
      "hello 22\n",
      "hello 23\n",
      "hello 24\n",
      "hello 25\n",
      "hello 26\n",
      "hello 27\n",
      "hello 28\n",
      "hello 29\n",
      "hello 30\n",
      "hello 31\n",
      "hello 32\n",
      "hello 33\n",
      "hello 34\n",
      "hello 35\n",
      "hello 36\n",
      "hello 37\n",
      "hello 38\n",
      "hello 39\n",
      "hello 40\n",
      "hello 41\n",
      "hello 42\n",
      "hello 43\n",
      "hello 44\n",
      "hello 45\n",
      "hello 46\n",
      "hello 47\n",
      "hello 48\n",
      "hello 49\n",
      "hello 50\n",
      "hello 51\n",
      "hello 52\n",
      "hello 53\n",
      "hello 54\n",
      "hello 55\n",
      "hello 56\n",
      "hello 57\n",
      "hello 58\n",
      "hello 59\n",
      "hello 60\n",
      "hello 61\n",
      "hello 62\n",
      "hello 63\n",
      "hello 64\n",
      "hello 65\n",
      "hello 66\n",
      "hello 67\n",
      "hello 68\n",
      "hello 69\n",
      "hello 70\n",
      "hello 71\n",
      "hello 72\n",
      "hello 73\n",
      "hello 74\n",
      "hello 75\n",
      "hello 76\n",
      "hello 77\n",
      "hello 78\n",
      "hello 79\n",
      "hello 80\n",
      "hello 81\n",
      "hello 82\n",
      "hello 83\n",
      "hello 84\n",
      "hello 85\n",
      "hello 86\n",
      "hello 87\n",
      "hello 88\n",
      "hello 89\n",
      "hello 90\n",
      "hello 91\n",
      "hello 92\n",
      "hello 93\n",
      "hello 94\n",
      "hello 95\n",
      "hello 96\n",
      "hello 97\n",
      "hello 98\n",
      "hello 99\n"
     ]
    }
   ],
   "source": [
    "# continue문\n",
    "for i in range(100):\n",
    "    if i == 10:\n",
    "        continue # 특정 조건에서 Loop를 실행하지 않고 다음 배열로 이동\n",
    "    print(\"hello\", i)"
   ]
  },
  {
   "cell_type": "code",
   "execution_count": 48,
   "metadata": {},
   "outputs": [
    {
     "name": "stdout",
     "output_type": "stream",
     "text": [
      "0 : h\n",
      "1 : e\n",
      "2 : l\n",
      "3 : l\n",
      "4 : o\n"
     ]
    }
   ],
   "source": [
    "# enumerate: 배열에 순서를 부여할 수 있음\n",
    "for i, e in enumerate(\"hello\"):\n",
    "    print(i,\":\", e)"
   ]
  },
  {
   "cell_type": "code",
   "execution_count": 1,
   "metadata": {},
   "outputs": [
    {
     "name": "stdout",
     "output_type": "stream",
     "text": [
      "********** 8 단 **********\n",
      "8 * 1 = 8\n",
      "8 * 2 = 16\n",
      "8 * 3 = 24\n",
      "8 * 4 = 32\n",
      "8 * 5 = 40\n",
      "8 * 6 = 48\n",
      "8 * 7 = 56\n",
      "8 * 8 = 64\n",
      "8 * 9 = 72\n"
     ]
    }
   ],
   "source": [
    "# while 문\n",
    "# 미션 9. 사용자에게 2 ~ 9 사이의 숫자를 입력 받는다. while문을 이용해서 구구단이 출력되게 프로그램을 작성\n",
    "n = int(input())\n",
    "i = 0\n",
    "print('*' * 10, n, '단', '*'*10)\n",
    "while i < 9:\n",
    "    i += 1\n",
    "    print(n, '*', i, '=', n * i)"
   ]
  },
  {
   "cell_type": "markdown",
   "metadata": {},
   "source": [
    "# List & Tuple, Dictionary, Set"
   ]
  },
  {
   "cell_type": "code",
   "execution_count": null,
   "metadata": {},
   "outputs": [],
   "source": [
    "# set에는 중복된 항목을 입력할 수 없다."
   ]
  },
  {
   "cell_type": "code",
   "execution_count": 4,
   "metadata": {},
   "outputs": [
    {
     "name": "stdout",
     "output_type": "stream",
     "text": [
      "<class 'set'> {'수학', '과학', '국어'}\n",
      "<class 'set'> {'수학', '국어'}\n"
     ]
    }
   ],
   "source": [
    "info = {'국어', '수학'}\n",
    "info.add('과학') # 항목 추가\n",
    "print(type(info), info)\n",
    "info.remove('과학') # 항목 제거\n",
    "print(type(info), info)"
   ]
  },
  {
   "cell_type": "code",
   "execution_count": 11,
   "metadata": {},
   "outputs": [
    {
     "name": "stdout",
     "output_type": "stream",
     "text": [
      "1 {'사회'}\n",
      "5 {'국어', '사회', '수학', '영어', '과학'}\n",
      "{'영어', '국어'}\n",
      "{'영어', '국어'}\n",
      "set()\n",
      "['과학', '국어', '사회', '수학', '영어']\n"
     ]
    }
   ],
   "source": [
    "info1 = {'국어', '영어', '사회'}\n",
    "info2 = {'사회', '수학', '과학'}\n",
    "info3 = info1 & info2 # 교집합\n",
    "print(len(info3), info3)\n",
    "info4 = info1 | info2 # 합집합\n",
    "print(len(info4), info4)\n",
    "info5 = info1 - info2 # 차집합\n",
    "print(info5)\n",
    "info6 = info1.difference(info2)\n",
    "print(info6)\n",
    "info6.clear()\n",
    "print(info6) \n",
    "print(sorted(info4)) # 정렬"
   ]
  },
  {
   "cell_type": "markdown",
   "metadata": {},
   "source": [
    "# Function"
   ]
  },
  {
   "cell_type": "code",
   "execution_count": 1,
   "metadata": {},
   "outputs": [
    {
     "name": "stdout",
     "output_type": "stream",
     "text": [
      "4\n",
      "**********\n",
      "0\n",
      "**********\n",
      "1\n",
      "**********\n",
      "4\n",
      "**********\n",
      "9\n",
      "**********\n",
      "16\n",
      "**********\n",
      "25\n",
      "**********\n",
      "36\n",
      "**********\n",
      "49\n",
      "**********\n",
      "64\n",
      "**********\n",
      "81\n"
     ]
    }
   ],
   "source": [
    "# function 예시\n",
    "def square(x):\n",
    "    return x**2\n",
    "\n",
    "print(square(2))\n",
    "\n",
    "for i in range(10):\n",
    "    print('*'*10)\n",
    "    print(square(i))\n",
    "\n",
    "\n",
    "# def 함수이름(인자):\n",
    "#    return 실행할 내용\n",
    "# 함수를 호출해서 사용할 수 있음. def 함수를 선언한다고 해서 함수가 실행되지는 않는다.\n",
    "# 선언된 인자와 호출된 인자의 수가 같아야 한다.\n"
   ]
  },
  {
   "cell_type": "code",
   "execution_count": 4,
   "metadata": {},
   "outputs": [
    {
     "name": "stdout",
     "output_type": "stream",
     "text": [
      "16\n",
      "36\n"
     ]
    }
   ],
   "source": [
    "def plus(x, y, z = 1): # 기본값이 있는 인자는 기본값이 없는 인자 뒤에 와야한다.\n",
    "    return x + y + z\n",
    "\n",
    "print(plus(8, 7)) # 인자의 기본값을 정하고 생략할 수 있다.\n",
    "print(plus(8, 7, z = 21))"
   ]
  },
  {
   "cell_type": "code",
   "execution_count": 6,
   "metadata": {},
   "outputs": [
    {
     "name": "stdout",
     "output_type": "stream",
     "text": [
      "in function 5\n",
      "out function 10\n"
     ]
    }
   ],
   "source": [
    "num = 10\n",
    "def plus(x, y):\n",
    "    num = x + y\n",
    "    print('in function', num)\n",
    "\n",
    "plus(2, 3)\n",
    "print('out function', num)"
   ]
  },
  {
   "cell_type": "code",
   "execution_count": 9,
   "metadata": {},
   "outputs": [
    {
     "name": "stdout",
     "output_type": "stream",
     "text": [
      "5\n",
      "5\n"
     ]
    },
    {
     "ename": "NameError",
     "evalue": "name 'local_num' is not defined",
     "output_type": "error",
     "traceback": [
      "\u001b[1;31m---------------------------------------------------------------------------\u001b[0m",
      "\u001b[1;31mNameError\u001b[0m                                 Traceback (most recent call last)",
      "\u001b[1;32mc:\\Users\\JeongHyun\\Desktop\\workplace\\DL\\AI\\1. Python\\0101.Python_basic.ipynb 셀 30\u001b[0m line \u001b[0;36m1\n\u001b[0;32m     <a href='vscode-notebook-cell:/c%3A/Users/JeongHyun/Desktop/workplace/DL/AI/1.%20Python/0101.Python_basic.ipynb#X36sZmlsZQ%3D%3D?line=13'>14</a>\u001b[0m     local_num \u001b[39m=\u001b[39m x \u001b[39m-\u001b[39m y\n\u001b[0;32m     <a href='vscode-notebook-cell:/c%3A/Users/JeongHyun/Desktop/workplace/DL/AI/1.%20Python/0101.Python_basic.ipynb#X36sZmlsZQ%3D%3D?line=15'>16</a>\u001b[0m minus(\u001b[39m2\u001b[39m, \u001b[39m3\u001b[39m)\n\u001b[1;32m---> <a href='vscode-notebook-cell:/c%3A/Users/JeongHyun/Desktop/workplace/DL/AI/1.%20Python/0101.Python_basic.ipynb#X36sZmlsZQ%3D%3D?line=16'>17</a>\u001b[0m \u001b[39mprint\u001b[39m(local_num)\n",
      "\u001b[1;31mNameError\u001b[0m: name 'local_num' is not defined"
     ]
    }
   ],
   "source": [
    "num = 10\n",
    "\n",
    "def plus(x, y):\n",
    "    global num\n",
    "    num = x + y\n",
    "    print(num)\n",
    "\n",
    "plus(2, 3)\n",
    "print(num)\n",
    "\n",
    "\n",
    "# 함수 안에서 선언된 변수를 함수 외부에서 접근할 수 없다.\n",
    "def minus(x, y):\n",
    "    local_num = x - y\n",
    "\n",
    "minus(2, 3)\n",
    "print(local_num)\n",
    "\n",
    "# global, local\n",
    "# 1. global\n",
    "# 2. local\n"
   ]
  },
  {
   "cell_type": "code",
   "execution_count": 19,
   "metadata": {},
   "outputs": [
    {
     "name": "stdout",
     "output_type": "stream",
     "text": [
      "10.0 + 5.0 = 15.0\n"
     ]
    }
   ],
   "source": [
    "# 미션 10. 다음 네 가지 연산에 대해서 함수를 정의하시오\n",
    "# 1. +, -, *, /\n",
    "# 2. 입력받은 기호에 따라서 적당한 함수를 실행하는 계산기를 만들어라\n",
    "\n",
    "x = float(input())\n",
    "a = input(\"기호를 입력하세요: \")\n",
    "y = float(input())\n",
    "\n",
    "def cal(x, a, y):\n",
    "    if a == \"+\":\n",
    "        return x + y\n",
    "    elif a == \"-\":\n",
    "        return x - y\n",
    "    elif a == \"*\":\n",
    "        return x * y\n",
    "    elif a == \"/\":\n",
    "        return x / y\n",
    "    else:\n",
    "        return \"wrong input\"\n",
    "\n",
    "result = cal(x, a, y)\n",
    "\n",
    "print(x, a, y, \"=\", result)"
   ]
  },
  {
   "cell_type": "code",
   "execution_count": 1,
   "metadata": {},
   "outputs": [
    {
     "name": "stdout",
     "output_type": "stream",
     "text": [
      "66 의 약수는 {1, 2, 3, 33, 66, 6, 11, 22} 입니다.\n",
      "72 의 약수는 {1, 2, 3, 4, 36, 6, 8, 9, 72, 12, 18, 24} 입니다.\n",
      "공약수는 {1, 2, 3, 6} 입니다.\n"
     ]
    }
   ],
   "source": [
    "# 미션 11. \n",
    "# 1. 사용자에게 임의의 양의 정수를 두 개 입력받기\n",
    "# 2. 1부터 사용자가 입력한 숫자 사이의 정수에서 나누었을 떄 나머지가 0이 되는 모든 약수를 구하기\n",
    "# 3. 두 약수의 교집합을 구하기\n",
    "\n",
    "a = int(input(\"첫 번째 숫자 입력: \"))\n",
    "b = int(input(\"두 번째 숫자 입력: \"))\n",
    "c = set()\n",
    "d = set()\n",
    "\n",
    "for i in range(1, a+1):\n",
    "    if a % i == 0:\n",
    "        c.add(i)\n",
    "print(a, \"의 약수는\", c, \"입니다.\")\n",
    "\n",
    "for i in range(1, b+1):\n",
    "    if b % i == 0:\n",
    "        d.add(i)\n",
    "print(b, \"의 약수는\", d, \"입니다.\")\n",
    "print(\"공약수는\",c.intersection(d), \"입니다.\")\n",
    "# 하나의 함수로 만들어 볼 수 있을 것 같아."
   ]
  },
  {
   "cell_type": "code",
   "execution_count": null,
   "metadata": {},
   "outputs": [],
   "source": [
    "# 재귀함수"
   ]
  },
  {
   "cell_type": "code",
   "execution_count": null,
   "metadata": {},
   "outputs": [],
   "source": [
    "# python의 내장함수"
   ]
  },
  {
   "cell_type": "code",
   "execution_count": 1,
   "metadata": {},
   "outputs": [
    {
     "name": "stdout",
     "output_type": "stream",
     "text": [
      "5\n"
     ]
    }
   ],
   "source": [
    "# lambda 함수: def를 사용하지 않고 코드 내에서 간단한 함수 기능을 정의하고 사용할 수 있음\n",
    "# lambda x, y: x + y\n",
    "plus = lambda x, y : x + y\n",
    "print(plus(2, 3))"
   ]
  },
  {
   "cell_type": "code",
   "execution_count": 7,
   "metadata": {},
   "outputs": [
    {
     "name": "stdout",
     "output_type": "stream",
     "text": [
      "<map object at 0x000001ECF29ED000>\n",
      "[1, 4, 9, 16, 25]\n"
     ]
    }
   ],
   "source": [
    "# map 함수: 배열의 항목에 대해서 동일한 연산을 실행하고 그 결과를 받는다.\n",
    "\n",
    "arr = [1, 2, 3, 4, 5]\n",
    "\n",
    "def square(x):\n",
    "    return x ** 2\n",
    "\n",
    "result0 = map(square, arr)\n",
    "result1 = list(map(square, arr))\n",
    "\n",
    "print(result0) # 결과가 출력되기 이전의 값\n",
    "print(result1)"
   ]
  },
  {
   "cell_type": "code",
   "execution_count": 9,
   "metadata": {},
   "outputs": [
    {
     "name": "stdout",
     "output_type": "stream",
     "text": [
      "1\n",
      "2\n"
     ]
    }
   ],
   "source": [
    "# iter 함수: 배열 항목에 대해서 하나씩 수행할 수 있는 iterator 생성\n",
    "it = iter([1, 2, 3, 4, 5])\n",
    "print(next(it)) # 배열의 항목을 하나씩 꺼냄\n",
    "print(next(it))"
   ]
  },
  {
   "cell_type": "code",
   "execution_count": 10,
   "metadata": {},
   "outputs": [
    {
     "name": "stdout",
     "output_type": "stream",
     "text": [
      "2\n",
      "1\n",
      "1\n",
      "4\n"
     ]
    }
   ],
   "source": [
    "import random\n",
    "\n",
    "for i in iter(lambda: random.randint(1, 5), 3):\n",
    "    print(i)"
   ]
  },
  {
   "cell_type": "code",
   "execution_count": 13,
   "metadata": {},
   "outputs": [],
   "source": [
    "# 함수 내부함수: 함수 내에 자주 사용하는 기능을 내부 함수로 정의해서 함수 내에서만 사용가능\n",
    "# 함수도 인자로 사용할 수 있다.\n",
    "def plus(x, y):\n",
    "    return x + y\n",
    "\n",
    "def minus(x, y):\n",
    "    return x - y\n",
    "\n",
    "def calc(function, x, y):\n",
    "    return function(x, y)\n",
    "\n",
    "print(calc(plus, 2, 3))\n"
   ]
  },
  {
   "cell_type": "code",
   "execution_count": 20,
   "metadata": {},
   "outputs": [
    {
     "name": "stdout",
     "output_type": "stream",
     "text": [
      "피보나치 수열: 1 일 때: 1\n",
      "피보나치 수열: 2 일 때: 1\n",
      "피보나치 수열: 3 일 때: 2\n",
      "피보나치 수열: 4 일 때: 3\n",
      "피보나치 수열: 5 일 때: 5\n",
      "피보나치 수열: 6 일 때: 8\n",
      "피보나치 수열: 7 일 때: 13\n",
      "피보나치 수열: 8 일 때: 21\n",
      "피보나치 수열: 9 일 때: 34\n",
      "피보나치 수열: 10 일 때: 55\n"
     ]
    }
   ],
   "source": [
    "# 미션 12. 피보나치 수열\n",
    "# 1. F(0) = 0\n",
    "# 2. F(1) = 1\n",
    "# 3. F(n) = F(n - 1) + F(n - 2) 단, n >=2\n",
    "# 재귀함수를 이용해서 피보나치 수열을 만들고 F(0) ~ F(10)까지를 계산해라\n",
    "\n",
    "def F(n):\n",
    "    if n <= 0:\n",
    "        return 0\n",
    "    elif n == 1:\n",
    "        return 1\n",
    "    else:\n",
    "        return F(n - 1) + F(n -2)\n",
    "\n",
    "for i in range(1, 11):\n",
    "    print('피보나치 수열:', i,'일 때:', F(i))"
   ]
  },
  {
   "cell_type": "code",
   "execution_count": 27,
   "metadata": {},
   "outputs": [
    {
     "name": "stdout",
     "output_type": "stream",
     "text": [
      "10.0 + 5.0 = 15.0\n"
     ]
    }
   ],
   "source": [
    "# 미션 13. 4가지 연산에 대해서 lambda 함수를 정의\n",
    "# 1. 첫 번째 숫자, 연산 기호, 두 번째 숫자를 입력받기\n",
    "# 2. 입력받은 기호에 따라 적당한 lambda함수를 실행하는 계산기 프로그램 만들기\n",
    "# 3. 0으로 나눌 수 없다.\n",
    "\n",
    "x = float(input(\"x: \"))\n",
    "a = input(\"기호 입력: \")\n",
    "y = float(input(\"\"))\n",
    "\n",
    "def cal(x, a, y):\n",
    "    if a == '+':\n",
    "        return lambda x, y: x + y\n",
    "    elif a == '-':\n",
    "        return lambda x, y: x - y\n",
    "    elif a == '*':\n",
    "        return lambda x, y: x - y\n",
    "    elif a == '/':\n",
    "        if y == 0:\n",
    "            return \"0으로 못나눈다.\"\n",
    "        else:\n",
    "            return lambda x, y: x / y\n",
    "    \n",
    "result = cal(x, a, y)\n",
    "result_lambda = result(x, y)\n",
    "\n",
    "\n",
    "print(f'{x} {a} {y} =', result_lambda)"
   ]
  },
  {
   "cell_type": "code",
   "execution_count": 32,
   "metadata": {},
   "outputs": [
    {
     "name": "stdout",
     "output_type": "stream",
     "text": [
      ".git\n",
      "/Users/JeongHyun/Desktop/workplace/DL/AI\\.git : True\n",
      "/Users/JeongHyun/Desktop/workplace/DL/AI\\.git : False\n",
      "1. Python\n",
      "/Users/JeongHyun/Desktop/workplace/DL/AI\\1. Python : True\n",
      "/Users/JeongHyun/Desktop/workplace/DL/AI\\1. Python : False\n",
      "2. MachineLearning\n",
      "/Users/JeongHyun/Desktop/workplace/DL/AI\\2. MachineLearning : True\n",
      "/Users/JeongHyun/Desktop/workplace/DL/AI\\2. MachineLearning : False\n",
      "3. DeepLearning\n",
      "/Users/JeongHyun/Desktop/workplace/DL/AI\\3. DeepLearning : True\n",
      "/Users/JeongHyun/Desktop/workplace/DL/AI\\3. DeepLearning : False\n"
     ]
    }
   ],
   "source": [
    "# 미션 14. os 함수와 재귀함수를 이용해보기\n",
    "# os.listdir(폴더경로): 폴더 내의 폴더, 파일을 포함한 정보를 읽을 수 있다.\n",
    "# os.path.join(상위폴더경로, 이름): 절대 경로를 만들 수 있다.\n",
    "# os.path.isdir(파일 또는 폴더 경로): 현재 경로가 폴더이면 True\n",
    "# os.path.isfile(파일 또는 폴더 경로): 현재 경로가 파일이면 True\n",
    "\n",
    "import os\n",
    "\n",
    "root = '/Users/JeongHyun/Desktop/workplace/DL/AI'\n",
    "\n",
    "for name in os.listdir(root):\n",
    "    print(name)\n",
    "    path = os.path.join(root, name)\n",
    "    print(path, ':', os.path.isdir(path))\n",
    "    print(path, ':', os.path.isfile(path))"
   ]
  },
  {
   "cell_type": "code",
   "execution_count": 36,
   "metadata": {},
   "outputs": [
    {
     "name": "stdout",
     "output_type": "stream",
     "text": [
      "폴더: .git\n",
      "파일: COMMIT_EDITMSG\n",
      "파일: config\n",
      "파일: description\n",
      "파일: HEAD\n",
      "폴더: hooks\n",
      "파일: applypatch-msg.sample\n",
      "파일: commit-msg.sample\n",
      "파일: fsmonitor-watchman.sample\n",
      "파일: post-update.sample\n",
      "파일: pre-applypatch.sample\n",
      "파일: pre-commit.sample\n",
      "파일: pre-merge-commit.sample\n",
      "파일: pre-push.sample\n",
      "파일: pre-rebase.sample\n",
      "파일: pre-receive.sample\n",
      "파일: prepare-commit-msg.sample\n",
      "파일: push-to-checkout.sample\n",
      "파일: sendemail-validate.sample\n",
      "파일: update.sample\n",
      "파일: index\n",
      "폴더: info\n",
      "파일: exclude\n",
      "폴더: logs\n",
      "파일: HEAD\n",
      "폴더: refs\n",
      "폴더: heads\n",
      "파일: main\n",
      "폴더: remotes\n",
      "폴더: origin\n",
      "파일: HEAD\n",
      "파일: main\n",
      "폴더: objects\n",
      "폴더: 35\n",
      "파일: bc627903e0cffce659021e37c33e517eaa743c\n",
      "폴더: 39\n",
      "파일: 69459ff552d9ee89ee674564370df154ffd282\n",
      "폴더: 4d\n",
      "파일: bc6da854ad7fec4df9883404ff6ac818904775\n",
      "폴더: 74\n",
      "파일: b3fcc55c71eb80b21a0d5e11c52798d86c449f\n",
      "파일: c9085efa0881bd3f8e97198225d828afc4e9e6\n",
      "폴더: 78\n",
      "파일: 06a3199b0ccac1a7edb9badf43cc2c20d76ec8\n",
      "폴더: 8d\n",
      "파일: cfa2cedb63fd6bfb84643196d3eae4d0940f13\n",
      "폴더: a3\n",
      "파일: 8030d9c136d281c712d6f71f94bdeb489f409b\n",
      "폴더: ad\n",
      "파일: 9972a77445a2e85215db818fa42238765800e0\n",
      "폴더: ce\n",
      "파일: 1374c69c3dce81a59b100be0e0cfd5a19967b2\n",
      "폴더: e0\n",
      "파일: afcf33155876a2e8bd6dd2f8f6de23bb103087\n",
      "폴더: e5\n",
      "파일: 068ccc4349d4d7676429683b3e7c5d684726ce\n",
      "폴더: e6\n",
      "파일: 9de29bb2d1d6434b8b29ae775ad8c2e48c5391\n",
      "폴더: ea\n",
      "파일: 24c84ab5a84ce14f5792153bb3e9b257af0899\n",
      "폴더: f1\n",
      "파일: 2a3e21efde43368bdbe5621fe7b6c31aad4640\n",
      "폴더: info\n",
      "폴더: pack\n",
      "파일: pack-e1be9c7aae599579109198a4982027af883d2934.idx\n",
      "파일: pack-e1be9c7aae599579109198a4982027af883d2934.pack\n",
      "파일: pack-e1be9c7aae599579109198a4982027af883d2934.rev\n",
      "파일: packed-refs\n",
      "폴더: refs\n",
      "폴더: heads\n",
      "파일: main\n",
      "폴더: remotes\n",
      "폴더: origin\n",
      "파일: HEAD\n",
      "파일: main\n",
      "폴더: tags\n",
      "폴더: 1. Python\n",
      "파일: 0101.Python_basic.ipynb\n",
      "폴더: 2. MachineLearning\n",
      "파일: 0201.MachineLearning.ipynb\n",
      "폴더: 3. DeepLearning\n",
      "파일: 0301.DeepLearning.ipynb\n"
     ]
    }
   ],
   "source": [
    "# 미션 15. 재귀 함수를 이용해서 파일, 폴더 목록을 반환하기\n",
    "import os\n",
    "\n",
    "root = input()\n",
    "\n",
    "def get_tree(path):\n",
    "    items = os.listdir(path)\n",
    "\n",
    "    for item in items:\n",
    "        item_path = os.path.join(path, item)\n",
    "\n",
    "        if os.path.isfile(item_path):\n",
    "            print(f'파일: {item}')\n",
    "        \n",
    "        elif os.path.isdir(item_path):\n",
    "            print(f'폴더: {item}')\n",
    "            get_tree(item_path)\n",
    "\n",
    "get_tree(root)\n",
    "            \n",
    "\n",
    "\n",
    "\n"
   ]
  },
  {
   "cell_type": "markdown",
   "metadata": {},
   "source": [
    "# Class"
   ]
  },
  {
   "cell_type": "code",
   "execution_count": 6,
   "metadata": {},
   "outputs": [
    {
     "name": "stdout",
     "output_type": "stream",
     "text": [
      "<class '__main__.Person'> <__main__.Person object at 0x000002192F329310>\n",
      "노홍철 33 m\n",
      "34\n",
      "정형돈 35 m\n",
      "유재석 37 m\n",
      "{'name': '노홍철', 'age': 34, 'gender': 'm'}\n",
      "{'name': '정형돈', 'age': 35, 'gender': 'm'}\n"
     ]
    }
   ],
   "source": [
    "# class는 대상화하고자 하는 속성의 특징을 정의한 것\n",
    "# class는 실제 대상이 아니며, 실제 대상은 class에 속성을 부여해서 구체화 한 것\n",
    "\n",
    "class Person:\n",
    "    def __init__(self, name, age, gender): # __init__은 초기화를 해주는거야\n",
    "        self.name = name\n",
    "        self.age = age\n",
    "        self.gender = gender\n",
    "\n",
    "    def new_year(self):\n",
    "        self.age += 1\n",
    "\n",
    "no = Person('노홍철', 33, 'm')\n",
    "print(type(no), no)\n",
    "print(no.name, no.age, no.gender)\n",
    "no.new_year()\n",
    "print(no.age)\n",
    "\n",
    "# 각각 다른 속성을 가진 여러가지 object를 생성할 수 있다.\n",
    "jung = Person('정형돈', 35, 'm')\n",
    "yu = Person('유재석', 37, 'm')\n",
    "\n",
    "print(jung.name, jung.age, jung.gender)\n",
    "print(yu.name, yu.age, yu.gender)\n",
    "\n",
    "# __dict__를 사용하면 class object의 속성(멤버 변수)를 확인할 수 있다.\n",
    "print(no.__dict__)\n",
    "print(jung.__dict__)"
   ]
  },
  {
   "cell_type": "code",
   "execution_count": 8,
   "metadata": {},
   "outputs": [
    {
     "name": "stdout",
     "output_type": "stream",
     "text": [
      "Ted 33 m 100\n"
     ]
    }
   ],
   "source": [
    "# class의 상속\n",
    "\n",
    "class Person:\n",
    "    def __init__(self, name, age, gender): # __init__은 초기화를 해주는거야\n",
    "        self.name = name\n",
    "        self.age = age\n",
    "        self.gender = gender\n",
    "\n",
    "class Soldier(Person):\n",
    "    def __init__(self, name, age, gender, power):\n",
    "        super().__init__(name, age, gender) # super로 Person을 상속\n",
    "        self.power = power\n",
    "\n",
    "af = Soldier('Ted', 33, 'm', 100)\n",
    "print(af.name, af.age, af.gender, af.power)"
   ]
  }
 ],
 "metadata": {
  "kernelspec": {
   "display_name": "lecture",
   "language": "python",
   "name": "python3"
  },
  "language_info": {
   "codemirror_mode": {
    "name": "ipython",
    "version": 3
   },
   "file_extension": ".py",
   "mimetype": "text/x-python",
   "name": "python",
   "nbconvert_exporter": "python",
   "pygments_lexer": "ipython3",
   "version": "3.11.4"
  },
  "orig_nbformat": 4
 },
 "nbformat": 4,
 "nbformat_minor": 2
}
