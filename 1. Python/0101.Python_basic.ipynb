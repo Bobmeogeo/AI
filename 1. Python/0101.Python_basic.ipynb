{
 "cells": [
  {
   "cell_type": "markdown",
   "metadata": {},
   "source": [
    "# Data Type & Operation"
   ]
  },
  {
   "cell_type": "code",
   "execution_count": 1,
   "metadata": {},
   "outputs": [
    {
     "data": {
      "text/plain": [
       "' 문자형: \"\", \\'\\'를 이용해서 문자를 표현(str), 줄바꿈은 /n으로 표현 '"
      ]
     },
     "execution_count": 1,
     "metadata": {},
     "output_type": "execute_result"
    }
   ],
   "source": [
    "# 정수형\n",
    "# 실수형\n",
    "# 복수형\n",
    "# Operaition\n",
    "# 문자형: \"\", ''를 이용해서 문자를 표현(str), 줄바꿈은 /n으로 표현\n",
    "# Boolean: True, False"
   ]
  },
  {
   "cell_type": "code",
   "execution_count": 2,
   "metadata": {},
   "outputs": [
    {
     "name": "stdout",
     "output_type": "stream",
     "text": [
      "9 * 1  =  9\n",
      "9 * 2  =  18\n",
      "9 * 3  =  27\n",
      "9 * 4  =  36\n",
      "9 * 5  =  45\n",
      "9 * 6  =  54\n",
      "9 * 7  =  63\n",
      "9 * 8  =  72\n",
      "9 * 9  =  81\n"
     ]
    }
   ],
   "source": [
    "# 미션1. print명령을 이용해서 구구단의 9단을 출력하는 프로그램 완성하기\n",
    "print('9', '*', '1', ' = ', 9)\n",
    "print('9', '*', '2', ' = ', 18)\n",
    "print('9', '*', '3', ' = ', 27)\n",
    "print('9', '*', '4', ' = ', 36)\n",
    "print('9', '*', '5', ' = ', 45)\n",
    "print('9', '*', '6', ' = ', 54)\n",
    "print('9', '*', '7', ' = ', 63)\n",
    "print('9', '*', '8', ' = ', 72)\n",
    "print('9', '*', '9', ' = ', 81)\n"
   ]
  },
  {
   "cell_type": "code",
   "execution_count": 5,
   "metadata": {},
   "outputs": [
    {
     "name": "stdout",
     "output_type": "stream",
     "text": [
      "직사각형의 넓이는 200 입니다.\n",
      "직사각형의 변의 길이는 60 입니다.\n"
     ]
    }
   ],
   "source": [
    "# 미션 2.직사각형의 넓이, 변의 길이를 구하는 프로그램 만들기\n",
    "width = int(input('폭을 입력하세요: '))\n",
    "height = int(input('높이를 입력하세요: '))\n",
    "print('직사각형의 넓이는', width * height,'입니다.')\n",
    "print('직사각형의 변의 길이는', 2*(width + height),'입니다.')"
   ]
  },
  {
   "cell_type": "markdown",
   "metadata": {},
   "source": [
    "# Variable(변수)"
   ]
  },
  {
   "cell_type": "code",
   "execution_count": null,
   "metadata": {},
   "outputs": [],
   "source": [
    "# 변수의 값을 저장할 수 있다.\n",
    "# 저장된 값을 계산하고 연산자를 사용할 수 있다."
   ]
  },
  {
   "cell_type": "code",
   "execution_count": 6,
   "metadata": {},
   "outputs": [
    {
     "name": "stdout",
     "output_type": "stream",
     "text": [
      "3 * 7 =  21\n"
     ]
    }
   ],
   "source": [
    "# 미션 3. 두개의 숫자를 입력받아서 두 숫자의 곱을 구하는 프로그램 작성하기\n",
    "no1 = int(input('숫자 1을 입력하세요: '))\n",
    "no2 = int(input('숫자 2를 입력하세요: '))\n",
    "print(f'{no1} * {no2} = ',no1 * no2) #f-string의 이용법을 알아야한다."
   ]
  },
  {
   "cell_type": "code",
   "execution_count": 10,
   "metadata": {},
   "outputs": [
    {
     "name": "stdout",
     "output_type": "stream",
     "text": [
      "밑변의 길이가 3이고, 높이가 4인 직각삼각형의 대각선 길이는 5.0 입니다.\n"
     ]
    }
   ],
   "source": [
    "# 미션 4. 직각 삼각형의 밑변과 높이를 입력받고 대각선의 길이를 구하는 프로그램 작성하기\n",
    "width = int(input('밑변의 길이를 입력하세요.'))\n",
    "height = int(input('높이를 입력하세요.'))\n",
    "diagonal = (width**2 + height**2)**0.5\n",
    "print(f'밑변의 길이가 {width}이고, 높이가 {height}인 직각삼각형의 대각선 길이는 {diagonal} 입니다.')\n"
   ]
  },
  {
   "cell_type": "markdown",
   "metadata": {},
   "source": [
    "# If Statement"
   ]
  },
  {
   "cell_type": "code",
   "execution_count": 13,
   "metadata": {},
   "outputs": [
    {
     "name": "stdout",
     "output_type": "stream",
     "text": [
      "other\n"
     ]
    }
   ],
   "source": [
    "# 비교연산자 ==, !=, <, <=\n",
    "# and 연산자: 둘의 값이 모두 True일 때만 True를 반환\n",
    "# or 연산자: 비교 연산시 하나라도 True이면 True를 반환\n",
    "# not 연산자: 거짓인 경우 True, 참인 경우 False를 반환\n",
    "\n",
    "n = int(input())\n",
    "if n == 1:\n",
    "    print(1)\n",
    "elif n == 2:\n",
    "    print(2)\n",
    "else:\n",
    "    print('other')"
   ]
  },
  {
   "cell_type": "code",
   "execution_count": 19,
   "metadata": {},
   "outputs": [
    {
     "name": "stdout",
     "output_type": "stream",
     "text": [
      "정사각형2의 밑변 길이가 깁니다.\n",
      "두 정사각형의 넓이의 차는 21 입니다.\n"
     ]
    }
   ],
   "source": [
    "# 미션 5.\n",
    "# 1. 두 개의 정사각형의 밑변 길이를 입력한다.\n",
    "# 2. 두 밑변의 길이가 같은 경우 첫 번째 넓이에서 두 번째 넓이를 뺀 값\n",
    "# 3. 둘 중에 밑 변의 길이가 큰 쪽의 넓이에서 작은 쪽의 넓이를 뺀 값을 구하기.\n",
    "\n",
    "width1 = int(input(\"정사각형1의 밑변 길이: \"))\n",
    "width2 = int(input(\"정사각형2의 밑변 길이:\"))\n",
    "area1 = int(width1**2)\n",
    "area2 = int(width2**2)\n",
    "\n",
    "if width1 == width2:\n",
    "    print(\"두 변의 길이가 같습니다.\")\n",
    "    print(\"두 정사각형의 넓이의 차이는\", area1 -  area2, \"입니다.\")\n",
    "elif width1 > width2:\n",
    "    print(\"정사각형1의 밑변 길이가 깁니다.\")\n",
    "    print(\"두 정사각형의 넓이의 차는\", area1 - area2,\"입니다.\")\n",
    "else:\n",
    "    print(\"정사각형2의 밑변 길이가 깁니다.\")\n",
    "    print(\"두 정사각형의 넓이의 차는\", area2 - area1,\"입니다.\")"
   ]
  },
  {
   "cell_type": "code",
   "execution_count": 25,
   "metadata": {},
   "outputs": [
    {
     "name": "stdout",
     "output_type": "stream",
     "text": [
      "두 번째 문장의 길이가 깁니다.\n",
      "두 번째 문장:  인공지능2\n",
      "첫 번째 문장:  인공지능\n"
     ]
    }
   ],
   "source": [
    "# 미션 6.\n",
    "# 1. 두 개의 문자열을 str1, str2에 저장하기\n",
    "# 2. 두 문장의 길이가 같은 경우 str1, str2 순서대로 문장을 출력\n",
    "# 3. 두 문장의 길이가 다른 경우 길이가 큰 문장을 우선 출력\n",
    "str1 = input()\n",
    "str2 = input()\n",
    "\n",
    "if len(str1) == len(str2):\n",
    "    print(\"두 문장의 길이가 같습니다.\")\n",
    "    print(\"첫 번째 문장: \",str1)\n",
    "    print(\"두 번째 문장: \",str2)\n",
    "elif len(str1) >= len(str2):\n",
    "    print(\"첫 번째 문장의 길이가 깁니다.\")\n",
    "    print(\"첫 번째 문장: \",str1)\n",
    "    print(\"두 번째 문장: \",str2)\n",
    "else:\n",
    "    print(\"두 번째 문장의 길이가 깁니다.\")\n",
    "    print(\"두 번째 문장: \",str2)\n",
    "    print(\"첫 번째 문장: \",str1)\n"
   ]
  },
  {
   "cell_type": "markdown",
   "metadata": {},
   "source": [
    "# Loop Statements"
   ]
  },
  {
   "cell_type": "code",
   "execution_count": 30,
   "metadata": {},
   "outputs": [
    {
     "name": "stdout",
     "output_type": "stream",
     "text": [
      "range(0, 5)\n",
      "range(0, 5)\n",
      "[0, 1, 2, 3, 4]\n",
      "[0, 2, 4]\n",
      "[5, 4, 3, 2, 1]\n",
      "['h', 'e', 'l', 'l', 'o']\n"
     ]
    }
   ],
   "source": [
    "# ragne 함수: range(0, 5, 1)\n",
    "print(range(0, 5, 1))\n",
    "print(range(5))\n",
    "# range 함수를 배열로 만들 수 있다.\n",
    "# (start, end, step)\n",
    "print(list(range(0, 5, 1)))\n",
    "print(list(range(0, 5, 2)))\n",
    "print(list(range(5, 0, -1)))\n",
    "print(list(\"hello\"))"
   ]
  },
  {
   "cell_type": "code",
   "execution_count": null,
   "metadata": {},
   "outputs": [],
   "source": [
    "\"\"\"for i in range(5):\n",
    "    print('Hello')\n",
    "\n",
    "1. for: 배열에 있는 내용을 하나씩 꺼내서 순차적으로 진행\n",
    "2. i: 배열에서 하나씩 꺼낸 값이 저장되는 변수\n",
    "3. range(5): 값을 꺼낼 배열 또는 배열로 변환이 가능한 값\n",
    "4. print('Hello'): 배열의 내용을 실행할 내용\n",
    "\"\"\""
   ]
  },
  {
   "cell_type": "code",
   "execution_count": 35,
   "metadata": {},
   "outputs": [
    {
     "name": "stdout",
     "output_type": "stream",
     "text": [
      "1부터  100 까지 홀수의 합은 2500\n",
      "1부터  100 까지 짝수의 합은 2550\n"
     ]
    }
   ],
   "source": [
    "# 미션 7. 1부터 n까지의 홀수의 합과 짝수의 합을 구하는 프로그램 작성하기\n",
    "\n",
    "n = int(input())\n",
    "sum1 = 0\n",
    "sum2 = 0\n",
    "for i in range(1, n+1):\n",
    "    if i %2 == 1:\n",
    "        sum1 += i\n",
    "    else:\n",
    "        sum2 += i\n",
    "\n",
    "print('1부터 ', n,'까지 홀수의 합은', sum1)\n",
    "print('1부터 ', n,'까지 짝수의 합은', sum2)"
   ]
  },
  {
   "cell_type": "code",
   "execution_count": 41,
   "metadata": {},
   "outputs": [
    {
     "name": "stdout",
     "output_type": "stream",
     "text": [
      "********** 2 단 **********\n",
      "2 * 1 = 2\n",
      "2 * 2 = 4\n",
      "2 * 3 = 6\n",
      "2 * 4 = 8\n",
      "2 * 5 = 10\n",
      "2 * 6 = 12\n",
      "2 * 7 = 14\n",
      "2 * 8 = 16\n",
      "2 * 9 = 18\n",
      "********** 3 단 **********\n",
      "3 * 1 = 3\n",
      "3 * 2 = 6\n",
      "3 * 3 = 9\n",
      "3 * 4 = 12\n",
      "3 * 5 = 15\n",
      "3 * 6 = 18\n",
      "3 * 7 = 21\n",
      "3 * 8 = 24\n",
      "3 * 9 = 27\n",
      "********** 4 단 **********\n",
      "4 * 1 = 4\n",
      "4 * 2 = 8\n",
      "4 * 3 = 12\n",
      "4 * 4 = 16\n",
      "4 * 5 = 20\n",
      "4 * 6 = 24\n",
      "4 * 7 = 28\n",
      "4 * 8 = 32\n",
      "4 * 9 = 36\n",
      "********** 5 단 **********\n",
      "5 * 1 = 5\n",
      "5 * 2 = 10\n",
      "5 * 3 = 15\n",
      "5 * 4 = 20\n",
      "5 * 5 = 25\n",
      "5 * 6 = 30\n",
      "5 * 7 = 35\n",
      "5 * 8 = 40\n",
      "5 * 9 = 45\n",
      "********** 6 단 **********\n",
      "6 * 1 = 6\n",
      "6 * 2 = 12\n",
      "6 * 3 = 18\n",
      "6 * 4 = 24\n",
      "6 * 5 = 30\n",
      "6 * 6 = 36\n",
      "6 * 7 = 42\n",
      "6 * 8 = 48\n",
      "6 * 9 = 54\n",
      "********** 7 단 **********\n",
      "7 * 1 = 7\n",
      "7 * 2 = 14\n",
      "7 * 3 = 21\n",
      "7 * 4 = 28\n",
      "7 * 5 = 35\n",
      "7 * 6 = 42\n",
      "7 * 7 = 49\n",
      "7 * 8 = 56\n",
      "7 * 9 = 63\n",
      "********** 8 단 **********\n",
      "8 * 1 = 8\n",
      "8 * 2 = 16\n",
      "8 * 3 = 24\n",
      "8 * 4 = 32\n",
      "8 * 5 = 40\n",
      "8 * 6 = 48\n",
      "8 * 7 = 56\n",
      "8 * 8 = 64\n",
      "8 * 9 = 72\n",
      "********** 9 단 **********\n",
      "9 * 1 = 9\n",
      "9 * 2 = 18\n",
      "9 * 3 = 27\n",
      "9 * 4 = 36\n",
      "9 * 5 = 45\n",
      "9 * 6 = 54\n",
      "9 * 7 = 63\n",
      "9 * 8 = 72\n",
      "9 * 9 = 81\n"
     ]
    }
   ],
   "source": [
    "# 미션 8. for문 두 개를 사용해서 구구단을 출력하는 프로그램 작성하기\n",
    "\n",
    "for i in range(2, 10):\n",
    "    print('*'*10, i,'단', '*'*10)\n",
    "    for j in range(1, 10):\n",
    "        print(i, '*', j, '=', i*j)"
   ]
  },
  {
   "cell_type": "code",
   "execution_count": 46,
   "metadata": {},
   "outputs": [
    {
     "name": "stdout",
     "output_type": "stream",
     "text": [
      "hello 0\n",
      "hello 1\n",
      "hello 2\n",
      "hello 3\n",
      "hello 4\n"
     ]
    }
   ],
   "source": [
    "# break문\n",
    "for i in range(100):\n",
    "    if i == 5:\n",
    "        break\n",
    "    print(\"hello\", i)"
   ]
  },
  {
   "cell_type": "code",
   "execution_count": 47,
   "metadata": {},
   "outputs": [
    {
     "name": "stdout",
     "output_type": "stream",
     "text": [
      "hello 0\n",
      "hello 1\n",
      "hello 2\n",
      "hello 3\n",
      "hello 4\n",
      "hello 5\n",
      "hello 6\n",
      "hello 7\n",
      "hello 8\n",
      "hello 9\n",
      "hello 11\n",
      "hello 12\n",
      "hello 13\n",
      "hello 14\n",
      "hello 15\n",
      "hello 16\n",
      "hello 17\n",
      "hello 18\n",
      "hello 19\n",
      "hello 20\n",
      "hello 21\n",
      "hello 22\n",
      "hello 23\n",
      "hello 24\n",
      "hello 25\n",
      "hello 26\n",
      "hello 27\n",
      "hello 28\n",
      "hello 29\n",
      "hello 30\n",
      "hello 31\n",
      "hello 32\n",
      "hello 33\n",
      "hello 34\n",
      "hello 35\n",
      "hello 36\n",
      "hello 37\n",
      "hello 38\n",
      "hello 39\n",
      "hello 40\n",
      "hello 41\n",
      "hello 42\n",
      "hello 43\n",
      "hello 44\n",
      "hello 45\n",
      "hello 46\n",
      "hello 47\n",
      "hello 48\n",
      "hello 49\n",
      "hello 50\n",
      "hello 51\n",
      "hello 52\n",
      "hello 53\n",
      "hello 54\n",
      "hello 55\n",
      "hello 56\n",
      "hello 57\n",
      "hello 58\n",
      "hello 59\n",
      "hello 60\n",
      "hello 61\n",
      "hello 62\n",
      "hello 63\n",
      "hello 64\n",
      "hello 65\n",
      "hello 66\n",
      "hello 67\n",
      "hello 68\n",
      "hello 69\n",
      "hello 70\n",
      "hello 71\n",
      "hello 72\n",
      "hello 73\n",
      "hello 74\n",
      "hello 75\n",
      "hello 76\n",
      "hello 77\n",
      "hello 78\n",
      "hello 79\n",
      "hello 80\n",
      "hello 81\n",
      "hello 82\n",
      "hello 83\n",
      "hello 84\n",
      "hello 85\n",
      "hello 86\n",
      "hello 87\n",
      "hello 88\n",
      "hello 89\n",
      "hello 90\n",
      "hello 91\n",
      "hello 92\n",
      "hello 93\n",
      "hello 94\n",
      "hello 95\n",
      "hello 96\n",
      "hello 97\n",
      "hello 98\n",
      "hello 99\n"
     ]
    }
   ],
   "source": [
    "# continue문\n",
    "for i in range(100):\n",
    "    if i == 10:\n",
    "        continue # 특정 조건에서 Loop를 실행하지 않고 다음 배열로 이동\n",
    "    print(\"hello\", i)"
   ]
  },
  {
   "cell_type": "code",
   "execution_count": 48,
   "metadata": {},
   "outputs": [
    {
     "name": "stdout",
     "output_type": "stream",
     "text": [
      "0 : h\n",
      "1 : e\n",
      "2 : l\n",
      "3 : l\n",
      "4 : o\n"
     ]
    }
   ],
   "source": [
    "# enumerate: 배열에 순서를 부여할 수 있음\n",
    "for i, e in enumerate(\"hello\"):\n",
    "    print(i,\":\", e)"
   ]
  },
  {
   "cell_type": "code",
   "execution_count": 51,
   "metadata": {},
   "outputs": [
    {
     "name": "stdout",
     "output_type": "stream",
     "text": [
      "********** 7 단 **********\n",
      "7 * 1 = 7\n",
      "7 * 2 = 14\n",
      "7 * 3 = 21\n",
      "7 * 4 = 28\n",
      "7 * 5 = 35\n",
      "7 * 6 = 42\n",
      "7 * 7 = 49\n",
      "7 * 8 = 56\n",
      "7 * 9 = 63\n"
     ]
    }
   ],
   "source": [
    "# while 문\n",
    "# 미션 9. 사용자에게 2 ~ 9 사이의 숫자를 입력 받는다. while문을 이용해서 구구단이 출력되게 프로그램을 작성\n",
    "n = int(input())\n",
    "i = 0\n",
    "print('*' * 10, n, '단', '*'*10)\n",
    "while i < 9:\n",
    "    i += 1\n",
    "    print(n, '*', i, '=', n * i)"
   ]
  }
 ],
 "metadata": {
  "kernelspec": {
   "display_name": "lecture",
   "language": "python",
   "name": "python3"
  },
  "language_info": {
   "codemirror_mode": {
    "name": "ipython",
    "version": 3
   },
   "file_extension": ".py",
   "mimetype": "text/x-python",
   "name": "python",
   "nbconvert_exporter": "python",
   "pygments_lexer": "ipython3",
   "version": "3.11.5"
  },
  "orig_nbformat": 4
 },
 "nbformat": 4,
 "nbformat_minor": 2
}
